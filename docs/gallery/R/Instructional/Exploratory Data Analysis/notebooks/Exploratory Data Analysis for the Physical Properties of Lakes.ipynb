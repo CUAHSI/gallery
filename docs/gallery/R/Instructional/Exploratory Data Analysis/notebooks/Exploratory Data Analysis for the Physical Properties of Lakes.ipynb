{
 "cells": [
  {
   "cell_type": "markdown",
   "metadata": {},
   "source": [
    "# Exploratory Data Analysis for the Physical Properties of Lakes"
   ]
  },
  {
   "cell_type": "markdown",
   "metadata": {},
   "source": [
    "This lesson was adapted from educational material written by [Dr. Kateri Salk](https://www.hydroshare.org/user/4912/) for her Fall 2019 Hydrologic Data Analysis course at Duke University. This is the first part of a two-part exercise focusing on the physical properties of lakes. "
   ]
  },
  {
   "cell_type": "markdown",
   "metadata": {},
   "source": [
    "## Introduction\n",
    "\n",
    "Lakes are dynamic, nonuniform bodies of water in which the physical, biological, and chemical properties interact. Lakes also contain the majority of Earth's fresh water supply. This lesson introduces exploratory data analysis in the context of the physical properties of lakes. "
   ]
  },
  {
   "cell_type": "markdown",
   "metadata": {},
   "source": [
    "## Learning Objectives\n",
    "\n",
    "After successfully completing this exercise, you will be able to:\n",
    "\n",
    "1. Apply exploratory data analytics skills to applied questions about physical properties of lakes\n"
   ]
  },
  {
   "cell_type": "markdown",
   "metadata": {},
   "source": [
    "## Requirements to Complete Lesson "
   ]
  },
  {
   "cell_type": "markdown",
   "metadata": {},
   "source": [
    "### Packages\n",
    "This lesson requires the installation of the following R packages to run the provided script:\n",
    "- `tidyverse`- Version 1.3.0. A collection of R packages designed for data science.\n",
    "- `lubridate`- Version 1.7.9. Functions for working with dates/times.\n"
   ]
  },
  {
   "cell_type": "markdown",
   "metadata": {},
   "source": [
    "### Data and Code\n",
    "\n",
    "The input files are made available to you in a public folder. \n",
    "\n",
    "This lesson also requires the dataset <span style=\"color:blue\">NTER-LTER_Lake_ChemistryPhysics_Raw.csv. </span><br> \n",
    "\n",
    "The dataset used in this lesson contains data from studies on several lakes in the North Temperate Lakes District in the state of Wisconsin. The data were collected as part of the Long Term Ecological Research station created by the National Science Foundation.  More information can be found here: https://lter.limnology.wisc.edu/about/overview. "
   ]
  },
  {
   "cell_type": "markdown",
   "metadata": {},
   "source": [
    "The code provided in this resource was developed using R version 3.6.1. "
   ]
  },
  {
   "cell_type": "markdown",
   "metadata": {},
   "source": [
    "### Set Working Directory\n",
    "\n"
   ]
  },
  {
   "cell_type": "markdown",
   "metadata": {},
   "source": [
    "In R, the working directory is the directory where R starts when looking for any file to open (as directed by a file path) and where it saves any output. This lesson assumes that you have set your working directory to the folder location of the downloaded and unzipped data subsets. "
   ]
  },
  {
   "cell_type": "markdown",
   "metadata": {},
   "source": [
    "### Load Packages\n"
   ]
  },
  {
   "cell_type": "code",
   "execution_count": 2,
   "metadata": {},
   "outputs": [
    {
     "name": "stderr",
     "output_type": "stream",
     "text": [
      "── \u001b[1mAttaching packages\u001b[22m ─────────────────────────────────────── tidyverse 1.3.0 ──\n",
      "\n",
      "\u001b[32m✓\u001b[39m \u001b[34mggplot2\u001b[39m 3.3.3     \u001b[32m✓\u001b[39m \u001b[34mpurrr  \u001b[39m 0.3.4\n",
      "\u001b[32m✓\u001b[39m \u001b[34mtibble \u001b[39m 3.0.5     \u001b[32m✓\u001b[39m \u001b[34mdplyr  \u001b[39m 1.0.3\n",
      "\u001b[32m✓\u001b[39m \u001b[34mtidyr  \u001b[39m 1.1.2     \u001b[32m✓\u001b[39m \u001b[34mstringr\u001b[39m 1.4.0\n",
      "\u001b[32m✓\u001b[39m \u001b[34mreadr  \u001b[39m 1.4.0     \u001b[32m✓\u001b[39m \u001b[34mforcats\u001b[39m 0.5.0\n",
      "\n",
      "── \u001b[1mConflicts\u001b[22m ────────────────────────────────────────── tidyverse_conflicts() ──\n",
      "\u001b[31mx\u001b[39m \u001b[34mdplyr\u001b[39m::\u001b[32mfilter()\u001b[39m masks \u001b[34mstats\u001b[39m::filter()\n",
      "\u001b[31mx\u001b[39m \u001b[34mdplyr\u001b[39m::\u001b[32mlag()\u001b[39m    masks \u001b[34mstats\u001b[39m::lag()\n",
      "\n",
      "\n",
      "Attaching package: ‘lubridate’\n",
      "\n",
      "\n",
      "The following objects are masked from ‘package:base’:\n",
      "\n",
      "    date, intersect, setdiff, union\n",
      "\n",
      "\n"
     ]
    }
   ],
   "source": [
    "options(warn=-1)\n",
    "\n",
    "library(tidyverse)\n",
    "library(lubridate)"
   ]
  },
  {
   "cell_type": "markdown",
   "metadata": {},
   "source": [
    "### Load Data"
   ]
  },
  {
   "cell_type": "code",
   "execution_count": 3,
   "metadata": {},
   "outputs": [],
   "source": [
    "NTLdata <- read.csv(\"NTL-LTER_Lake_ChemistryPhysics_Raw.csv\")"
   ]
  },
  {
   "cell_type": "markdown",
   "metadata": {},
   "source": [
    "## Data Wrangling and Exploration\n",
    "\n",
    "The purpose of this section is to perform exploratory data analysis to investigate the structure of the provided dataset. "
   ]
  },
  {
   "cell_type": "markdown",
   "metadata": {},
   "source": [
    "## `NTLdata`"
   ]
  },
  {
   "cell_type": "markdown",
   "metadata": {},
   "source": [
    "To create a spreadsheet-style data viewer on a matrix-like R object, simply execute the name of the dataframe. "
   ]
  },
  {
   "cell_type": "code",
   "execution_count": 4,
   "metadata": {},
   "outputs": [
    {
     "data": {
      "text/html": [
       "<table>\n",
       "<caption>A data.frame: 38614 × 11</caption>\n",
       "<thead>\n",
       "\t<tr><th scope=col>lakeid</th><th scope=col>lakename</th><th scope=col>year4</th><th scope=col>daynum</th><th scope=col>sampledate</th><th scope=col>depth</th><th scope=col>temperature_C</th><th scope=col>dissolvedOxygen</th><th scope=col>irradianceWater</th><th scope=col>irradianceDeck</th><th scope=col>comments</th></tr>\n",
       "\t<tr><th scope=col>&lt;chr&gt;</th><th scope=col>&lt;chr&gt;</th><th scope=col>&lt;int&gt;</th><th scope=col>&lt;int&gt;</th><th scope=col>&lt;chr&gt;</th><th scope=col>&lt;dbl&gt;</th><th scope=col>&lt;dbl&gt;</th><th scope=col>&lt;dbl&gt;</th><th scope=col>&lt;dbl&gt;</th><th scope=col>&lt;dbl&gt;</th><th scope=col>&lt;chr&gt;</th></tr>\n",
       "</thead>\n",
       "<tbody>\n",
       "\t<tr><td>L</td><td>Paul Lake </td><td>1984</td><td>148</td><td>5/27/84</td><td> 0.00</td><td>14.5</td><td> 9.5</td><td>1750.0</td><td>1620</td><td>NA</td></tr>\n",
       "\t<tr><td>L</td><td>Paul Lake </td><td>1984</td><td>148</td><td>5/27/84</td><td> 0.25</td><td>  NA</td><td>  NA</td><td>1550.0</td><td>1620</td><td>NA</td></tr>\n",
       "\t<tr><td>L</td><td>Paul Lake </td><td>1984</td><td>148</td><td>5/27/84</td><td> 0.50</td><td>  NA</td><td>  NA</td><td>1150.0</td><td>1620</td><td>NA</td></tr>\n",
       "\t<tr><td>L</td><td>Paul Lake </td><td>1984</td><td>148</td><td>5/27/84</td><td> 0.75</td><td>  NA</td><td>  NA</td><td> 975.0</td><td>1620</td><td>NA</td></tr>\n",
       "\t<tr><td>L</td><td>Paul Lake </td><td>1984</td><td>148</td><td>5/27/84</td><td> 1.00</td><td>14.5</td><td> 8.8</td><td> 870.0</td><td>1620</td><td>NA</td></tr>\n",
       "\t<tr><td>L</td><td>Paul Lake </td><td>1984</td><td>148</td><td>5/27/84</td><td> 1.50</td><td>  NA</td><td>  NA</td><td> 610.0</td><td>1620</td><td>NA</td></tr>\n",
       "\t<tr><td>L</td><td>Paul Lake </td><td>1984</td><td>148</td><td>5/27/84</td><td> 2.00</td><td>14.2</td><td> 8.6</td><td> 420.0</td><td>1620</td><td>NA</td></tr>\n",
       "\t<tr><td>L</td><td>Paul Lake </td><td>1984</td><td>148</td><td>5/27/84</td><td> 3.00</td><td>11.0</td><td>11.5</td><td> 220.0</td><td>1620</td><td>NA</td></tr>\n",
       "\t<tr><td>L</td><td>Paul Lake </td><td>1984</td><td>148</td><td>5/27/84</td><td> 4.00</td><td> 7.0</td><td>11.9</td><td> 100.0</td><td>1620</td><td>NA</td></tr>\n",
       "\t<tr><td>L</td><td>Paul Lake </td><td>1984</td><td>148</td><td>5/27/84</td><td> 5.00</td><td> 6.1</td><td> 2.5</td><td>  34.0</td><td>1620</td><td>NA</td></tr>\n",
       "\t<tr><td>L</td><td>Paul Lake </td><td>1984</td><td>148</td><td>5/27/84</td><td> 6.00</td><td> 5.5</td><td> 1.6</td><td>   7.6</td><td>1620</td><td>NA</td></tr>\n",
       "\t<tr><td>L</td><td>Paul Lake </td><td>1984</td><td>148</td><td>5/27/84</td><td> 7.00</td><td> 5.0</td><td> 0.4</td><td>   1.3</td><td>1610</td><td>NA</td></tr>\n",
       "\t<tr><td>L</td><td>Paul Lake </td><td>1984</td><td>148</td><td>5/27/84</td><td> 8.00</td><td> 4.5</td><td> 0.3</td><td>    NA</td><td>  NA</td><td>NA</td></tr>\n",
       "\t<tr><td>L</td><td>Paul Lake </td><td>1984</td><td>148</td><td>5/27/84</td><td> 9.00</td><td> 4.5</td><td> 0.3</td><td>    NA</td><td>  NA</td><td>NA</td></tr>\n",
       "\t<tr><td>L</td><td>Paul Lake </td><td>1984</td><td>148</td><td>5/27/84</td><td>10.00</td><td> 4.5</td><td> 0.3</td><td>    NA</td><td>  NA</td><td>NA</td></tr>\n",
       "\t<tr><td>L</td><td>Paul Lake </td><td>1984</td><td>148</td><td>5/27/84</td><td>11.00</td><td> 4.5</td><td> 0.3</td><td>    NA</td><td>  NA</td><td>NA</td></tr>\n",
       "\t<tr><td>L</td><td>Paul Lake </td><td>1984</td><td>148</td><td>5/27/84</td><td>12.00</td><td> 4.5</td><td> 0.3</td><td>    NA</td><td>  NA</td><td>NA</td></tr>\n",
       "\t<tr><td>R</td><td>Peter Lake</td><td>1984</td><td>149</td><td>5/28/84</td><td> 0.00</td><td>14.8</td><td> 9.2</td><td>1630.0</td><td>1540</td><td>NA</td></tr>\n",
       "\t<tr><td>R</td><td>Peter Lake</td><td>1984</td><td>149</td><td>5/28/84</td><td> 0.25</td><td>  NA</td><td>  NA</td><td>1530.0</td><td>1540</td><td>NA</td></tr>\n",
       "\t<tr><td>R</td><td>Peter Lake</td><td>1984</td><td>149</td><td>5/28/84</td><td> 0.50</td><td>  NA</td><td>  NA</td><td>1250.0</td><td>1540</td><td>NA</td></tr>\n",
       "\t<tr><td>R</td><td>Peter Lake</td><td>1984</td><td>149</td><td>5/28/84</td><td> 0.75</td><td>  NA</td><td>  NA</td><td>1050.0</td><td>1540</td><td>NA</td></tr>\n",
       "\t<tr><td>R</td><td>Peter Lake</td><td>1984</td><td>149</td><td>5/28/84</td><td> 1.00</td><td>14.8</td><td> 8.8</td><td> 890.0</td><td>1540</td><td>NA</td></tr>\n",
       "\t<tr><td>R</td><td>Peter Lake</td><td>1984</td><td>149</td><td>5/28/84</td><td> 1.50</td><td>  NA</td><td>  NA</td><td> 660.0</td><td>1540</td><td>NA</td></tr>\n",
       "\t<tr><td>R</td><td>Peter Lake</td><td>1984</td><td>149</td><td>5/28/84</td><td> 2.00</td><td>14.8</td><td> 8.9</td><td> 500.0</td><td>1540</td><td>NA</td></tr>\n",
       "\t<tr><td>R</td><td>Peter Lake</td><td>1984</td><td>149</td><td>5/28/84</td><td> 3.00</td><td>12.3</td><td>11.4</td><td> 250.0</td><td>1540</td><td>NA</td></tr>\n",
       "\t<tr><td>R</td><td>Peter Lake</td><td>1984</td><td>149</td><td>5/28/84</td><td> 4.00</td><td> 8.2</td><td>11.5</td><td> 110.0</td><td>1540</td><td>NA</td></tr>\n",
       "\t<tr><td>R</td><td>Peter Lake</td><td>1984</td><td>149</td><td>5/28/84</td><td> 5.00</td><td> 7.0</td><td>11.0</td><td>  70.0</td><td>1540</td><td>NA</td></tr>\n",
       "\t<tr><td>R</td><td>Peter Lake</td><td>1984</td><td>149</td><td>5/28/84</td><td> 6.00</td><td> 5.9</td><td> 8.6</td><td>  33.0</td><td>1540</td><td>NA</td></tr>\n",
       "\t<tr><td>R</td><td>Peter Lake</td><td>1984</td><td>149</td><td>5/28/84</td><td> 7.00</td><td> 4.5</td><td> 0.8</td><td>  17.5</td><td>1540</td><td>NA</td></tr>\n",
       "\t<tr><td>R</td><td>Peter Lake</td><td>1984</td><td>149</td><td>5/28/84</td><td> 8.00</td><td> 4.0</td><td> 0.3</td><td>   8.5</td><td>1540</td><td>NA</td></tr>\n",
       "\t<tr><td>⋮</td><td>⋮</td><td>⋮</td><td>⋮</td><td>⋮</td><td>⋮</td><td>⋮</td><td>⋮</td><td>⋮</td><td>⋮</td><td>⋮</td></tr>\n",
       "\t<tr><td>L</td><td>Paul Lake   </td><td>2016</td><td>229</td><td>8/16/16</td><td> 5.00</td><td>12.6</td><td>1.8</td><td>  12.800</td><td> 668</td><td>NA</td></tr>\n",
       "\t<tr><td>L</td><td>Paul Lake   </td><td>2016</td><td>229</td><td>8/16/16</td><td> 5.50</td><td>10.6</td><td>0.3</td><td>   6.550</td><td> 639</td><td>NA</td></tr>\n",
       "\t<tr><td>L</td><td>Paul Lake   </td><td>2016</td><td>229</td><td>8/16/16</td><td> 6.00</td><td> 9.0</td><td>0.1</td><td>   1.930</td><td> 627</td><td>NA</td></tr>\n",
       "\t<tr><td>L</td><td>Paul Lake   </td><td>2016</td><td>229</td><td>8/16/16</td><td> 6.50</td><td> 7.5</td><td>0.0</td><td>      NA</td><td>  NA</td><td>NA</td></tr>\n",
       "\t<tr><td>L</td><td>Paul Lake   </td><td>2016</td><td>229</td><td>8/16/16</td><td> 7.00</td><td> 6.7</td><td>0.0</td><td>      NA</td><td>  NA</td><td>NA</td></tr>\n",
       "\t<tr><td>L</td><td>Paul Lake   </td><td>2016</td><td>229</td><td>8/16/16</td><td> 8.00</td><td> 5.9</td><td>0.0</td><td>      NA</td><td>  NA</td><td>NA</td></tr>\n",
       "\t<tr><td>L</td><td>Paul Lake   </td><td>2016</td><td>229</td><td>8/16/16</td><td> 9.00</td><td> 5.5</td><td>0.0</td><td>      NA</td><td>  NA</td><td>NA</td></tr>\n",
       "\t<tr><td>L</td><td>Paul Lake   </td><td>2016</td><td>229</td><td>8/16/16</td><td>10.00</td><td> 5.4</td><td>0.0</td><td>      NA</td><td>  NA</td><td>NA</td></tr>\n",
       "\t<tr><td>L</td><td>Paul Lake   </td><td>2016</td><td>229</td><td>8/16/16</td><td>11.00</td><td> 5.4</td><td>0.0</td><td>      NA</td><td>  NA</td><td>NA</td></tr>\n",
       "\t<tr><td>L</td><td>Paul Lake   </td><td>2016</td><td>229</td><td>8/16/16</td><td>12.00</td><td> 5.3</td><td>0.0</td><td>      NA</td><td>  NA</td><td>NA</td></tr>\n",
       "\t<tr><td>T</td><td>Tuesday Lake</td><td>2016</td><td>230</td><td>8/17/16</td><td> 0.00</td><td>24.1</td><td>6.6</td><td>1113.000</td><td>1049</td><td>NA</td></tr>\n",
       "\t<tr><td>T</td><td>Tuesday Lake</td><td>2016</td><td>230</td><td>8/17/16</td><td> 0.25</td><td>  NA</td><td> NA</td><td> 749.400</td><td>1045</td><td>NA</td></tr>\n",
       "\t<tr><td>T</td><td>Tuesday Lake</td><td>2016</td><td>230</td><td>8/17/16</td><td> 0.50</td><td>23.7</td><td>6.4</td><td> 471.900</td><td>1041</td><td>NA</td></tr>\n",
       "\t<tr><td>T</td><td>Tuesday Lake</td><td>2016</td><td>230</td><td>8/17/16</td><td> 0.75</td><td>  NA</td><td> NA</td><td> 327.900</td><td>1012</td><td>NA</td></tr>\n",
       "\t<tr><td>T</td><td>Tuesday Lake</td><td>2016</td><td>230</td><td>8/17/16</td><td> 1.00</td><td>23.5</td><td>6.2</td><td> 233.300</td><td>1026</td><td>NA</td></tr>\n",
       "\t<tr><td>T</td><td>Tuesday Lake</td><td>2016</td><td>230</td><td>8/17/16</td><td> 1.50</td><td>23.3</td><td>5.7</td><td> 100.900</td><td>1028</td><td>NA</td></tr>\n",
       "\t<tr><td>T</td><td>Tuesday Lake</td><td>2016</td><td>230</td><td>8/17/16</td><td> 2.00</td><td>21.8</td><td>1.6</td><td>  53.210</td><td>1018</td><td>NA</td></tr>\n",
       "\t<tr><td>T</td><td>Tuesday Lake</td><td>2016</td><td>230</td><td>8/17/16</td><td> 2.50</td><td>18.4</td><td>0.2</td><td>  19.750</td><td>1027</td><td>NA</td></tr>\n",
       "\t<tr><td>T</td><td>Tuesday Lake</td><td>2016</td><td>230</td><td>8/17/16</td><td> 3.00</td><td>14.3</td><td>0.3</td><td>   8.128</td><td>1037</td><td>NA</td></tr>\n",
       "\t<tr><td>T</td><td>Tuesday Lake</td><td>2016</td><td>230</td><td>8/17/16</td><td> 3.50</td><td>10.1</td><td>0.1</td><td>   3.187</td><td>1016</td><td>NA</td></tr>\n",
       "\t<tr><td>T</td><td>Tuesday Lake</td><td>2016</td><td>230</td><td>8/17/16</td><td> 4.00</td><td> 7.9</td><td>0.1</td><td>   1.080</td><td>1018</td><td>NA</td></tr>\n",
       "\t<tr><td>T</td><td>Tuesday Lake</td><td>2016</td><td>230</td><td>8/17/16</td><td> 4.50</td><td> 6.3</td><td>0.1</td><td>      NA</td><td>  NA</td><td>NA</td></tr>\n",
       "\t<tr><td>T</td><td>Tuesday Lake</td><td>2016</td><td>230</td><td>8/17/16</td><td> 5.00</td><td> 5.4</td><td>0.1</td><td>      NA</td><td>  NA</td><td>NA</td></tr>\n",
       "\t<tr><td>T</td><td>Tuesday Lake</td><td>2016</td><td>230</td><td>8/17/16</td><td> 5.50</td><td> 4.9</td><td>0.1</td><td>      NA</td><td>  NA</td><td>NA</td></tr>\n",
       "\t<tr><td>T</td><td>Tuesday Lake</td><td>2016</td><td>230</td><td>8/17/16</td><td> 6.00</td><td> 4.6</td><td>0.0</td><td>      NA</td><td>  NA</td><td>NA</td></tr>\n",
       "\t<tr><td>T</td><td>Tuesday Lake</td><td>2016</td><td>230</td><td>8/17/16</td><td> 6.50</td><td> 4.4</td><td>0.0</td><td>      NA</td><td>  NA</td><td>NA</td></tr>\n",
       "\t<tr><td>T</td><td>Tuesday Lake</td><td>2016</td><td>230</td><td>8/17/16</td><td> 7.00</td><td> 4.3</td><td>0.0</td><td>      NA</td><td>  NA</td><td>NA</td></tr>\n",
       "\t<tr><td>T</td><td>Tuesday Lake</td><td>2016</td><td>230</td><td>8/17/16</td><td> 8.00</td><td> 4.3</td><td>0.0</td><td>      NA</td><td>  NA</td><td>NA</td></tr>\n",
       "\t<tr><td>T</td><td>Tuesday Lake</td><td>2016</td><td>230</td><td>8/17/16</td><td> 9.00</td><td> 4.3</td><td>0.0</td><td>      NA</td><td>  NA</td><td>NA</td></tr>\n",
       "\t<tr><td>T</td><td>Tuesday Lake</td><td>2016</td><td>230</td><td>8/17/16</td><td>10.00</td><td> 4.3</td><td>0.0</td><td>      NA</td><td>  NA</td><td>NA</td></tr>\n",
       "</tbody>\n",
       "</table>\n"
      ],
      "text/latex": [
       "A data.frame: 38614 × 11\n",
       "\\begin{tabular}{lllllllllll}\n",
       " lakeid & lakename & year4 & daynum & sampledate & depth & temperature\\_C & dissolvedOxygen & irradianceWater & irradianceDeck & comments\\\\\n",
       " <chr> & <chr> & <int> & <int> & <chr> & <dbl> & <dbl> & <dbl> & <dbl> & <dbl> & <chr>\\\\\n",
       "\\hline\n",
       "\t L & Paul Lake  & 1984 & 148 & 5/27/84 &  0.00 & 14.5 &  9.5 & 1750.0 & 1620 & NA\\\\\n",
       "\t L & Paul Lake  & 1984 & 148 & 5/27/84 &  0.25 &   NA &   NA & 1550.0 & 1620 & NA\\\\\n",
       "\t L & Paul Lake  & 1984 & 148 & 5/27/84 &  0.50 &   NA &   NA & 1150.0 & 1620 & NA\\\\\n",
       "\t L & Paul Lake  & 1984 & 148 & 5/27/84 &  0.75 &   NA &   NA &  975.0 & 1620 & NA\\\\\n",
       "\t L & Paul Lake  & 1984 & 148 & 5/27/84 &  1.00 & 14.5 &  8.8 &  870.0 & 1620 & NA\\\\\n",
       "\t L & Paul Lake  & 1984 & 148 & 5/27/84 &  1.50 &   NA &   NA &  610.0 & 1620 & NA\\\\\n",
       "\t L & Paul Lake  & 1984 & 148 & 5/27/84 &  2.00 & 14.2 &  8.6 &  420.0 & 1620 & NA\\\\\n",
       "\t L & Paul Lake  & 1984 & 148 & 5/27/84 &  3.00 & 11.0 & 11.5 &  220.0 & 1620 & NA\\\\\n",
       "\t L & Paul Lake  & 1984 & 148 & 5/27/84 &  4.00 &  7.0 & 11.9 &  100.0 & 1620 & NA\\\\\n",
       "\t L & Paul Lake  & 1984 & 148 & 5/27/84 &  5.00 &  6.1 &  2.5 &   34.0 & 1620 & NA\\\\\n",
       "\t L & Paul Lake  & 1984 & 148 & 5/27/84 &  6.00 &  5.5 &  1.6 &    7.6 & 1620 & NA\\\\\n",
       "\t L & Paul Lake  & 1984 & 148 & 5/27/84 &  7.00 &  5.0 &  0.4 &    1.3 & 1610 & NA\\\\\n",
       "\t L & Paul Lake  & 1984 & 148 & 5/27/84 &  8.00 &  4.5 &  0.3 &     NA &   NA & NA\\\\\n",
       "\t L & Paul Lake  & 1984 & 148 & 5/27/84 &  9.00 &  4.5 &  0.3 &     NA &   NA & NA\\\\\n",
       "\t L & Paul Lake  & 1984 & 148 & 5/27/84 & 10.00 &  4.5 &  0.3 &     NA &   NA & NA\\\\\n",
       "\t L & Paul Lake  & 1984 & 148 & 5/27/84 & 11.00 &  4.5 &  0.3 &     NA &   NA & NA\\\\\n",
       "\t L & Paul Lake  & 1984 & 148 & 5/27/84 & 12.00 &  4.5 &  0.3 &     NA &   NA & NA\\\\\n",
       "\t R & Peter Lake & 1984 & 149 & 5/28/84 &  0.00 & 14.8 &  9.2 & 1630.0 & 1540 & NA\\\\\n",
       "\t R & Peter Lake & 1984 & 149 & 5/28/84 &  0.25 &   NA &   NA & 1530.0 & 1540 & NA\\\\\n",
       "\t R & Peter Lake & 1984 & 149 & 5/28/84 &  0.50 &   NA &   NA & 1250.0 & 1540 & NA\\\\\n",
       "\t R & Peter Lake & 1984 & 149 & 5/28/84 &  0.75 &   NA &   NA & 1050.0 & 1540 & NA\\\\\n",
       "\t R & Peter Lake & 1984 & 149 & 5/28/84 &  1.00 & 14.8 &  8.8 &  890.0 & 1540 & NA\\\\\n",
       "\t R & Peter Lake & 1984 & 149 & 5/28/84 &  1.50 &   NA &   NA &  660.0 & 1540 & NA\\\\\n",
       "\t R & Peter Lake & 1984 & 149 & 5/28/84 &  2.00 & 14.8 &  8.9 &  500.0 & 1540 & NA\\\\\n",
       "\t R & Peter Lake & 1984 & 149 & 5/28/84 &  3.00 & 12.3 & 11.4 &  250.0 & 1540 & NA\\\\\n",
       "\t R & Peter Lake & 1984 & 149 & 5/28/84 &  4.00 &  8.2 & 11.5 &  110.0 & 1540 & NA\\\\\n",
       "\t R & Peter Lake & 1984 & 149 & 5/28/84 &  5.00 &  7.0 & 11.0 &   70.0 & 1540 & NA\\\\\n",
       "\t R & Peter Lake & 1984 & 149 & 5/28/84 &  6.00 &  5.9 &  8.6 &   33.0 & 1540 & NA\\\\\n",
       "\t R & Peter Lake & 1984 & 149 & 5/28/84 &  7.00 &  4.5 &  0.8 &   17.5 & 1540 & NA\\\\\n",
       "\t R & Peter Lake & 1984 & 149 & 5/28/84 &  8.00 &  4.0 &  0.3 &    8.5 & 1540 & NA\\\\\n",
       "\t ⋮ & ⋮ & ⋮ & ⋮ & ⋮ & ⋮ & ⋮ & ⋮ & ⋮ & ⋮ & ⋮\\\\\n",
       "\t L & Paul Lake    & 2016 & 229 & 8/16/16 &  5.00 & 12.6 & 1.8 &   12.800 &  668 & NA\\\\\n",
       "\t L & Paul Lake    & 2016 & 229 & 8/16/16 &  5.50 & 10.6 & 0.3 &    6.550 &  639 & NA\\\\\n",
       "\t L & Paul Lake    & 2016 & 229 & 8/16/16 &  6.00 &  9.0 & 0.1 &    1.930 &  627 & NA\\\\\n",
       "\t L & Paul Lake    & 2016 & 229 & 8/16/16 &  6.50 &  7.5 & 0.0 &       NA &   NA & NA\\\\\n",
       "\t L & Paul Lake    & 2016 & 229 & 8/16/16 &  7.00 &  6.7 & 0.0 &       NA &   NA & NA\\\\\n",
       "\t L & Paul Lake    & 2016 & 229 & 8/16/16 &  8.00 &  5.9 & 0.0 &       NA &   NA & NA\\\\\n",
       "\t L & Paul Lake    & 2016 & 229 & 8/16/16 &  9.00 &  5.5 & 0.0 &       NA &   NA & NA\\\\\n",
       "\t L & Paul Lake    & 2016 & 229 & 8/16/16 & 10.00 &  5.4 & 0.0 &       NA &   NA & NA\\\\\n",
       "\t L & Paul Lake    & 2016 & 229 & 8/16/16 & 11.00 &  5.4 & 0.0 &       NA &   NA & NA\\\\\n",
       "\t L & Paul Lake    & 2016 & 229 & 8/16/16 & 12.00 &  5.3 & 0.0 &       NA &   NA & NA\\\\\n",
       "\t T & Tuesday Lake & 2016 & 230 & 8/17/16 &  0.00 & 24.1 & 6.6 & 1113.000 & 1049 & NA\\\\\n",
       "\t T & Tuesday Lake & 2016 & 230 & 8/17/16 &  0.25 &   NA &  NA &  749.400 & 1045 & NA\\\\\n",
       "\t T & Tuesday Lake & 2016 & 230 & 8/17/16 &  0.50 & 23.7 & 6.4 &  471.900 & 1041 & NA\\\\\n",
       "\t T & Tuesday Lake & 2016 & 230 & 8/17/16 &  0.75 &   NA &  NA &  327.900 & 1012 & NA\\\\\n",
       "\t T & Tuesday Lake & 2016 & 230 & 8/17/16 &  1.00 & 23.5 & 6.2 &  233.300 & 1026 & NA\\\\\n",
       "\t T & Tuesday Lake & 2016 & 230 & 8/17/16 &  1.50 & 23.3 & 5.7 &  100.900 & 1028 & NA\\\\\n",
       "\t T & Tuesday Lake & 2016 & 230 & 8/17/16 &  2.00 & 21.8 & 1.6 &   53.210 & 1018 & NA\\\\\n",
       "\t T & Tuesday Lake & 2016 & 230 & 8/17/16 &  2.50 & 18.4 & 0.2 &   19.750 & 1027 & NA\\\\\n",
       "\t T & Tuesday Lake & 2016 & 230 & 8/17/16 &  3.00 & 14.3 & 0.3 &    8.128 & 1037 & NA\\\\\n",
       "\t T & Tuesday Lake & 2016 & 230 & 8/17/16 &  3.50 & 10.1 & 0.1 &    3.187 & 1016 & NA\\\\\n",
       "\t T & Tuesday Lake & 2016 & 230 & 8/17/16 &  4.00 &  7.9 & 0.1 &    1.080 & 1018 & NA\\\\\n",
       "\t T & Tuesday Lake & 2016 & 230 & 8/17/16 &  4.50 &  6.3 & 0.1 &       NA &   NA & NA\\\\\n",
       "\t T & Tuesday Lake & 2016 & 230 & 8/17/16 &  5.00 &  5.4 & 0.1 &       NA &   NA & NA\\\\\n",
       "\t T & Tuesday Lake & 2016 & 230 & 8/17/16 &  5.50 &  4.9 & 0.1 &       NA &   NA & NA\\\\\n",
       "\t T & Tuesday Lake & 2016 & 230 & 8/17/16 &  6.00 &  4.6 & 0.0 &       NA &   NA & NA\\\\\n",
       "\t T & Tuesday Lake & 2016 & 230 & 8/17/16 &  6.50 &  4.4 & 0.0 &       NA &   NA & NA\\\\\n",
       "\t T & Tuesday Lake & 2016 & 230 & 8/17/16 &  7.00 &  4.3 & 0.0 &       NA &   NA & NA\\\\\n",
       "\t T & Tuesday Lake & 2016 & 230 & 8/17/16 &  8.00 &  4.3 & 0.0 &       NA &   NA & NA\\\\\n",
       "\t T & Tuesday Lake & 2016 & 230 & 8/17/16 &  9.00 &  4.3 & 0.0 &       NA &   NA & NA\\\\\n",
       "\t T & Tuesday Lake & 2016 & 230 & 8/17/16 & 10.00 &  4.3 & 0.0 &       NA &   NA & NA\\\\\n",
       "\\end{tabular}\n"
      ],
      "text/markdown": [
       "\n",
       "A data.frame: 38614 × 11\n",
       "\n",
       "| lakeid &lt;chr&gt; | lakename &lt;chr&gt; | year4 &lt;int&gt; | daynum &lt;int&gt; | sampledate &lt;chr&gt; | depth &lt;dbl&gt; | temperature_C &lt;dbl&gt; | dissolvedOxygen &lt;dbl&gt; | irradianceWater &lt;dbl&gt; | irradianceDeck &lt;dbl&gt; | comments &lt;chr&gt; |\n",
       "|---|---|---|---|---|---|---|---|---|---|---|\n",
       "| L | Paul Lake  | 1984 | 148 | 5/27/84 |  0.00 | 14.5 |  9.5 | 1750.0 | 1620 | NA |\n",
       "| L | Paul Lake  | 1984 | 148 | 5/27/84 |  0.25 |   NA |   NA | 1550.0 | 1620 | NA |\n",
       "| L | Paul Lake  | 1984 | 148 | 5/27/84 |  0.50 |   NA |   NA | 1150.0 | 1620 | NA |\n",
       "| L | Paul Lake  | 1984 | 148 | 5/27/84 |  0.75 |   NA |   NA |  975.0 | 1620 | NA |\n",
       "| L | Paul Lake  | 1984 | 148 | 5/27/84 |  1.00 | 14.5 |  8.8 |  870.0 | 1620 | NA |\n",
       "| L | Paul Lake  | 1984 | 148 | 5/27/84 |  1.50 |   NA |   NA |  610.0 | 1620 | NA |\n",
       "| L | Paul Lake  | 1984 | 148 | 5/27/84 |  2.00 | 14.2 |  8.6 |  420.0 | 1620 | NA |\n",
       "| L | Paul Lake  | 1984 | 148 | 5/27/84 |  3.00 | 11.0 | 11.5 |  220.0 | 1620 | NA |\n",
       "| L | Paul Lake  | 1984 | 148 | 5/27/84 |  4.00 |  7.0 | 11.9 |  100.0 | 1620 | NA |\n",
       "| L | Paul Lake  | 1984 | 148 | 5/27/84 |  5.00 |  6.1 |  2.5 |   34.0 | 1620 | NA |\n",
       "| L | Paul Lake  | 1984 | 148 | 5/27/84 |  6.00 |  5.5 |  1.6 |    7.6 | 1620 | NA |\n",
       "| L | Paul Lake  | 1984 | 148 | 5/27/84 |  7.00 |  5.0 |  0.4 |    1.3 | 1610 | NA |\n",
       "| L | Paul Lake  | 1984 | 148 | 5/27/84 |  8.00 |  4.5 |  0.3 |     NA |   NA | NA |\n",
       "| L | Paul Lake  | 1984 | 148 | 5/27/84 |  9.00 |  4.5 |  0.3 |     NA |   NA | NA |\n",
       "| L | Paul Lake  | 1984 | 148 | 5/27/84 | 10.00 |  4.5 |  0.3 |     NA |   NA | NA |\n",
       "| L | Paul Lake  | 1984 | 148 | 5/27/84 | 11.00 |  4.5 |  0.3 |     NA |   NA | NA |\n",
       "| L | Paul Lake  | 1984 | 148 | 5/27/84 | 12.00 |  4.5 |  0.3 |     NA |   NA | NA |\n",
       "| R | Peter Lake | 1984 | 149 | 5/28/84 |  0.00 | 14.8 |  9.2 | 1630.0 | 1540 | NA |\n",
       "| R | Peter Lake | 1984 | 149 | 5/28/84 |  0.25 |   NA |   NA | 1530.0 | 1540 | NA |\n",
       "| R | Peter Lake | 1984 | 149 | 5/28/84 |  0.50 |   NA |   NA | 1250.0 | 1540 | NA |\n",
       "| R | Peter Lake | 1984 | 149 | 5/28/84 |  0.75 |   NA |   NA | 1050.0 | 1540 | NA |\n",
       "| R | Peter Lake | 1984 | 149 | 5/28/84 |  1.00 | 14.8 |  8.8 |  890.0 | 1540 | NA |\n",
       "| R | Peter Lake | 1984 | 149 | 5/28/84 |  1.50 |   NA |   NA |  660.0 | 1540 | NA |\n",
       "| R | Peter Lake | 1984 | 149 | 5/28/84 |  2.00 | 14.8 |  8.9 |  500.0 | 1540 | NA |\n",
       "| R | Peter Lake | 1984 | 149 | 5/28/84 |  3.00 | 12.3 | 11.4 |  250.0 | 1540 | NA |\n",
       "| R | Peter Lake | 1984 | 149 | 5/28/84 |  4.00 |  8.2 | 11.5 |  110.0 | 1540 | NA |\n",
       "| R | Peter Lake | 1984 | 149 | 5/28/84 |  5.00 |  7.0 | 11.0 |   70.0 | 1540 | NA |\n",
       "| R | Peter Lake | 1984 | 149 | 5/28/84 |  6.00 |  5.9 |  8.6 |   33.0 | 1540 | NA |\n",
       "| R | Peter Lake | 1984 | 149 | 5/28/84 |  7.00 |  4.5 |  0.8 |   17.5 | 1540 | NA |\n",
       "| R | Peter Lake | 1984 | 149 | 5/28/84 |  8.00 |  4.0 |  0.3 |    8.5 | 1540 | NA |\n",
       "| ⋮ | ⋮ | ⋮ | ⋮ | ⋮ | ⋮ | ⋮ | ⋮ | ⋮ | ⋮ | ⋮ |\n",
       "| L | Paul Lake    | 2016 | 229 | 8/16/16 |  5.00 | 12.6 | 1.8 |   12.800 |  668 | NA |\n",
       "| L | Paul Lake    | 2016 | 229 | 8/16/16 |  5.50 | 10.6 | 0.3 |    6.550 |  639 | NA |\n",
       "| L | Paul Lake    | 2016 | 229 | 8/16/16 |  6.00 |  9.0 | 0.1 |    1.930 |  627 | NA |\n",
       "| L | Paul Lake    | 2016 | 229 | 8/16/16 |  6.50 |  7.5 | 0.0 |       NA |   NA | NA |\n",
       "| L | Paul Lake    | 2016 | 229 | 8/16/16 |  7.00 |  6.7 | 0.0 |       NA |   NA | NA |\n",
       "| L | Paul Lake    | 2016 | 229 | 8/16/16 |  8.00 |  5.9 | 0.0 |       NA |   NA | NA |\n",
       "| L | Paul Lake    | 2016 | 229 | 8/16/16 |  9.00 |  5.5 | 0.0 |       NA |   NA | NA |\n",
       "| L | Paul Lake    | 2016 | 229 | 8/16/16 | 10.00 |  5.4 | 0.0 |       NA |   NA | NA |\n",
       "| L | Paul Lake    | 2016 | 229 | 8/16/16 | 11.00 |  5.4 | 0.0 |       NA |   NA | NA |\n",
       "| L | Paul Lake    | 2016 | 229 | 8/16/16 | 12.00 |  5.3 | 0.0 |       NA |   NA | NA |\n",
       "| T | Tuesday Lake | 2016 | 230 | 8/17/16 |  0.00 | 24.1 | 6.6 | 1113.000 | 1049 | NA |\n",
       "| T | Tuesday Lake | 2016 | 230 | 8/17/16 |  0.25 |   NA |  NA |  749.400 | 1045 | NA |\n",
       "| T | Tuesday Lake | 2016 | 230 | 8/17/16 |  0.50 | 23.7 | 6.4 |  471.900 | 1041 | NA |\n",
       "| T | Tuesday Lake | 2016 | 230 | 8/17/16 |  0.75 |   NA |  NA |  327.900 | 1012 | NA |\n",
       "| T | Tuesday Lake | 2016 | 230 | 8/17/16 |  1.00 | 23.5 | 6.2 |  233.300 | 1026 | NA |\n",
       "| T | Tuesday Lake | 2016 | 230 | 8/17/16 |  1.50 | 23.3 | 5.7 |  100.900 | 1028 | NA |\n",
       "| T | Tuesday Lake | 2016 | 230 | 8/17/16 |  2.00 | 21.8 | 1.6 |   53.210 | 1018 | NA |\n",
       "| T | Tuesday Lake | 2016 | 230 | 8/17/16 |  2.50 | 18.4 | 0.2 |   19.750 | 1027 | NA |\n",
       "| T | Tuesday Lake | 2016 | 230 | 8/17/16 |  3.00 | 14.3 | 0.3 |    8.128 | 1037 | NA |\n",
       "| T | Tuesday Lake | 2016 | 230 | 8/17/16 |  3.50 | 10.1 | 0.1 |    3.187 | 1016 | NA |\n",
       "| T | Tuesday Lake | 2016 | 230 | 8/17/16 |  4.00 |  7.9 | 0.1 |    1.080 | 1018 | NA |\n",
       "| T | Tuesday Lake | 2016 | 230 | 8/17/16 |  4.50 |  6.3 | 0.1 |       NA |   NA | NA |\n",
       "| T | Tuesday Lake | 2016 | 230 | 8/17/16 |  5.00 |  5.4 | 0.1 |       NA |   NA | NA |\n",
       "| T | Tuesday Lake | 2016 | 230 | 8/17/16 |  5.50 |  4.9 | 0.1 |       NA |   NA | NA |\n",
       "| T | Tuesday Lake | 2016 | 230 | 8/17/16 |  6.00 |  4.6 | 0.0 |       NA |   NA | NA |\n",
       "| T | Tuesday Lake | 2016 | 230 | 8/17/16 |  6.50 |  4.4 | 0.0 |       NA |   NA | NA |\n",
       "| T | Tuesday Lake | 2016 | 230 | 8/17/16 |  7.00 |  4.3 | 0.0 |       NA |   NA | NA |\n",
       "| T | Tuesday Lake | 2016 | 230 | 8/17/16 |  8.00 |  4.3 | 0.0 |       NA |   NA | NA |\n",
       "| T | Tuesday Lake | 2016 | 230 | 8/17/16 |  9.00 |  4.3 | 0.0 |       NA |   NA | NA |\n",
       "| T | Tuesday Lake | 2016 | 230 | 8/17/16 | 10.00 |  4.3 | 0.0 |       NA |   NA | NA |\n",
       "\n"
      ],
      "text/plain": [
       "      lakeid lakename     year4 daynum sampledate depth temperature_C\n",
       "1     L      Paul Lake    1984  148    5/27/84     0.00 14.5         \n",
       "2     L      Paul Lake    1984  148    5/27/84     0.25   NA         \n",
       "3     L      Paul Lake    1984  148    5/27/84     0.50   NA         \n",
       "4     L      Paul Lake    1984  148    5/27/84     0.75   NA         \n",
       "5     L      Paul Lake    1984  148    5/27/84     1.00 14.5         \n",
       "6     L      Paul Lake    1984  148    5/27/84     1.50   NA         \n",
       "7     L      Paul Lake    1984  148    5/27/84     2.00 14.2         \n",
       "8     L      Paul Lake    1984  148    5/27/84     3.00 11.0         \n",
       "9     L      Paul Lake    1984  148    5/27/84     4.00  7.0         \n",
       "10    L      Paul Lake    1984  148    5/27/84     5.00  6.1         \n",
       "11    L      Paul Lake    1984  148    5/27/84     6.00  5.5         \n",
       "12    L      Paul Lake    1984  148    5/27/84     7.00  5.0         \n",
       "13    L      Paul Lake    1984  148    5/27/84     8.00  4.5         \n",
       "14    L      Paul Lake    1984  148    5/27/84     9.00  4.5         \n",
       "15    L      Paul Lake    1984  148    5/27/84    10.00  4.5         \n",
       "16    L      Paul Lake    1984  148    5/27/84    11.00  4.5         \n",
       "17    L      Paul Lake    1984  148    5/27/84    12.00  4.5         \n",
       "18    R      Peter Lake   1984  149    5/28/84     0.00 14.8         \n",
       "19    R      Peter Lake   1984  149    5/28/84     0.25   NA         \n",
       "20    R      Peter Lake   1984  149    5/28/84     0.50   NA         \n",
       "21    R      Peter Lake   1984  149    5/28/84     0.75   NA         \n",
       "22    R      Peter Lake   1984  149    5/28/84     1.00 14.8         \n",
       "23    R      Peter Lake   1984  149    5/28/84     1.50   NA         \n",
       "24    R      Peter Lake   1984  149    5/28/84     2.00 14.8         \n",
       "25    R      Peter Lake   1984  149    5/28/84     3.00 12.3         \n",
       "26    R      Peter Lake   1984  149    5/28/84     4.00  8.2         \n",
       "27    R      Peter Lake   1984  149    5/28/84     5.00  7.0         \n",
       "28    R      Peter Lake   1984  149    5/28/84     6.00  5.9         \n",
       "29    R      Peter Lake   1984  149    5/28/84     7.00  4.5         \n",
       "30    R      Peter Lake   1984  149    5/28/84     8.00  4.0         \n",
       "⋮     ⋮      ⋮            ⋮     ⋮      ⋮          ⋮     ⋮            \n",
       "38585 L      Paul Lake    2016  229    8/16/16     5.00 12.6         \n",
       "38586 L      Paul Lake    2016  229    8/16/16     5.50 10.6         \n",
       "38587 L      Paul Lake    2016  229    8/16/16     6.00  9.0         \n",
       "38588 L      Paul Lake    2016  229    8/16/16     6.50  7.5         \n",
       "38589 L      Paul Lake    2016  229    8/16/16     7.00  6.7         \n",
       "38590 L      Paul Lake    2016  229    8/16/16     8.00  5.9         \n",
       "38591 L      Paul Lake    2016  229    8/16/16     9.00  5.5         \n",
       "38592 L      Paul Lake    2016  229    8/16/16    10.00  5.4         \n",
       "38593 L      Paul Lake    2016  229    8/16/16    11.00  5.4         \n",
       "38594 L      Paul Lake    2016  229    8/16/16    12.00  5.3         \n",
       "38595 T      Tuesday Lake 2016  230    8/17/16     0.00 24.1         \n",
       "38596 T      Tuesday Lake 2016  230    8/17/16     0.25   NA         \n",
       "38597 T      Tuesday Lake 2016  230    8/17/16     0.50 23.7         \n",
       "38598 T      Tuesday Lake 2016  230    8/17/16     0.75   NA         \n",
       "38599 T      Tuesday Lake 2016  230    8/17/16     1.00 23.5         \n",
       "38600 T      Tuesday Lake 2016  230    8/17/16     1.50 23.3         \n",
       "38601 T      Tuesday Lake 2016  230    8/17/16     2.00 21.8         \n",
       "38602 T      Tuesday Lake 2016  230    8/17/16     2.50 18.4         \n",
       "38603 T      Tuesday Lake 2016  230    8/17/16     3.00 14.3         \n",
       "38604 T      Tuesday Lake 2016  230    8/17/16     3.50 10.1         \n",
       "38605 T      Tuesday Lake 2016  230    8/17/16     4.00  7.9         \n",
       "38606 T      Tuesday Lake 2016  230    8/17/16     4.50  6.3         \n",
       "38607 T      Tuesday Lake 2016  230    8/17/16     5.00  5.4         \n",
       "38608 T      Tuesday Lake 2016  230    8/17/16     5.50  4.9         \n",
       "38609 T      Tuesday Lake 2016  230    8/17/16     6.00  4.6         \n",
       "38610 T      Tuesday Lake 2016  230    8/17/16     6.50  4.4         \n",
       "38611 T      Tuesday Lake 2016  230    8/17/16     7.00  4.3         \n",
       "38612 T      Tuesday Lake 2016  230    8/17/16     8.00  4.3         \n",
       "38613 T      Tuesday Lake 2016  230    8/17/16     9.00  4.3         \n",
       "38614 T      Tuesday Lake 2016  230    8/17/16    10.00  4.3         \n",
       "      dissolvedOxygen irradianceWater irradianceDeck comments\n",
       "1      9.5            1750.0          1620           NA      \n",
       "2       NA            1550.0          1620           NA      \n",
       "3       NA            1150.0          1620           NA      \n",
       "4       NA             975.0          1620           NA      \n",
       "5      8.8             870.0          1620           NA      \n",
       "6       NA             610.0          1620           NA      \n",
       "7      8.6             420.0          1620           NA      \n",
       "8     11.5             220.0          1620           NA      \n",
       "9     11.9             100.0          1620           NA      \n",
       "10     2.5              34.0          1620           NA      \n",
       "11     1.6               7.6          1620           NA      \n",
       "12     0.4               1.3          1610           NA      \n",
       "13     0.3                NA            NA           NA      \n",
       "14     0.3                NA            NA           NA      \n",
       "15     0.3                NA            NA           NA      \n",
       "16     0.3                NA            NA           NA      \n",
       "17     0.3                NA            NA           NA      \n",
       "18     9.2            1630.0          1540           NA      \n",
       "19      NA            1530.0          1540           NA      \n",
       "20      NA            1250.0          1540           NA      \n",
       "21      NA            1050.0          1540           NA      \n",
       "22     8.8             890.0          1540           NA      \n",
       "23      NA             660.0          1540           NA      \n",
       "24     8.9             500.0          1540           NA      \n",
       "25    11.4             250.0          1540           NA      \n",
       "26    11.5             110.0          1540           NA      \n",
       "27    11.0              70.0          1540           NA      \n",
       "28     8.6              33.0          1540           NA      \n",
       "29     0.8              17.5          1540           NA      \n",
       "30     0.3               8.5          1540           NA      \n",
       "⋮     ⋮               ⋮               ⋮              ⋮       \n",
       "38585 1.8               12.800         668           NA      \n",
       "38586 0.3                6.550         639           NA      \n",
       "38587 0.1                1.930         627           NA      \n",
       "38588 0.0                   NA          NA           NA      \n",
       "38589 0.0                   NA          NA           NA      \n",
       "38590 0.0                   NA          NA           NA      \n",
       "38591 0.0                   NA          NA           NA      \n",
       "38592 0.0                   NA          NA           NA      \n",
       "38593 0.0                   NA          NA           NA      \n",
       "38594 0.0                   NA          NA           NA      \n",
       "38595 6.6             1113.000        1049           NA      \n",
       "38596  NA              749.400        1045           NA      \n",
       "38597 6.4              471.900        1041           NA      \n",
       "38598  NA              327.900        1012           NA      \n",
       "38599 6.2              233.300        1026           NA      \n",
       "38600 5.7              100.900        1028           NA      \n",
       "38601 1.6               53.210        1018           NA      \n",
       "38602 0.2               19.750        1027           NA      \n",
       "38603 0.3                8.128        1037           NA      \n",
       "38604 0.1                3.187        1016           NA      \n",
       "38605 0.1                1.080        1018           NA      \n",
       "38606 0.1                   NA          NA           NA      \n",
       "38607 0.1                   NA          NA           NA      \n",
       "38608 0.1                   NA          NA           NA      \n",
       "38609 0.0                   NA          NA           NA      \n",
       "38610 0.0                   NA          NA           NA      \n",
       "38611 0.0                   NA          NA           NA      \n",
       "38612 0.0                   NA          NA           NA      \n",
       "38613 0.0                   NA          NA           NA      \n",
       "38614 0.0                   NA          NA           NA      "
      ]
     },
     "metadata": {},
     "output_type": "display_data"
    }
   ],
   "source": [
    "NTLdata"
   ]
  },
  {
   "cell_type": "markdown",
   "metadata": {},
   "source": [
    "## Date Formatting"
   ]
  },
  {
   "cell_type": "markdown",
   "metadata": {},
   "source": [
    "### `class`"
   ]
  },
  {
   "cell_type": "markdown",
   "metadata": {},
   "source": [
    " Use the `class` function to print the vector of names of classes an object inherits from."
   ]
  },
  {
   "cell_type": "code",
   "execution_count": 19,
   "metadata": {},
   "outputs": [
    {
     "data": {
      "text/html": [
       "'character'"
      ],
      "text/latex": [
       "'character'"
      ],
      "text/markdown": [
       "'character'"
      ],
      "text/plain": [
       "[1] \"character\""
      ]
     },
     "metadata": {},
     "output_type": "display_data"
    }
   ],
   "source": [
    "class(NTLdata$sampledate)"
   ]
  },
  {
   "cell_type": "markdown",
   "metadata": {},
   "source": [
    "The results indicate that the `sampledate` column of the NTLdata dataframe is a factor. "
   ]
  },
  {
   "cell_type": "markdown",
   "metadata": {},
   "source": [
    "### `as.Date`"
   ]
  },
  {
   "cell_type": "markdown",
   "metadata": {},
   "source": [
    "Use the `as.Date` function to convert a string to a date. "
   ]
  },
  {
   "cell_type": "code",
   "execution_count": 20,
   "metadata": {},
   "outputs": [],
   "source": [
    "NTLdata$sampledate <- as.Date(NTLdata$sampledate, \"%m/%d/%y\")"
   ]
  },
  {
   "cell_type": "code",
   "execution_count": 21,
   "metadata": {},
   "outputs": [
    {
     "data": {
      "text/html": [
       "'Date'"
      ],
      "text/latex": [
       "'Date'"
      ],
      "text/markdown": [
       "'Date'"
      ],
      "text/plain": [
       "[1] \"Date\""
      ]
     },
     "metadata": {},
     "output_type": "display_data"
    }
   ],
   "source": [
    "# Check the class of the sampledate column now \n",
    "class(NTLdata$sampledate)"
   ]
  },
  {
   "cell_type": "markdown",
   "metadata": {},
   "source": [
    "## Addressing NA's"
   ]
  },
  {
   "cell_type": "markdown",
   "metadata": {},
   "source": [
    "### `dim`"
   ]
  },
  {
   "cell_type": "markdown",
   "metadata": {},
   "source": [
    "Use the `dim` function to retrieve the dimensions of an object. "
   ]
  },
  {
   "cell_type": "code",
   "execution_count": 22,
   "metadata": {},
   "outputs": [
    {
     "data": {
      "text/html": [
       "<style>\n",
       ".list-inline {list-style: none; margin:0; padding: 0}\n",
       ".list-inline>li {display: inline-block}\n",
       ".list-inline>li:not(:last-child)::after {content: \"\\00b7\"; padding: 0 .5ex}\n",
       "</style>\n",
       "<ol class=list-inline><li>38614</li><li>11</li></ol>\n"
      ],
      "text/latex": [
       "\\begin{enumerate*}\n",
       "\\item 38614\n",
       "\\item 11\n",
       "\\end{enumerate*}\n"
      ],
      "text/markdown": [
       "1. 38614\n",
       "2. 11\n",
       "\n",
       "\n"
      ],
      "text/plain": [
       "[1] 38614    11"
      ]
     },
     "metadata": {},
     "output_type": "display_data"
    }
   ],
   "source": [
    "dim(NTLdata)"
   ]
  },
  {
   "cell_type": "markdown",
   "metadata": {},
   "source": [
    "### `drop_na`"
   ]
  },
  {
   "cell_type": "markdown",
   "metadata": {},
   "source": [
    "Use the `drop_na` function to drop any rows containing missing Temperature values. "
   ]
  },
  {
   "cell_type": "code",
   "execution_count": 23,
   "metadata": {},
   "outputs": [],
   "source": [
    "NTLdata <- NTLdata %>%\n",
    "  drop_na(temperature_C)"
   ]
  },
  {
   "cell_type": "code",
   "execution_count": 24,
   "metadata": {},
   "outputs": [
    {
     "data": {
      "text/html": [
       "<style>\n",
       ".list-inline {list-style: none; margin:0; padding: 0}\n",
       ".list-inline>li {display: inline-block}\n",
       ".list-inline>li:not(:last-child)::after {content: \"\\00b7\"; padding: 0 .5ex}\n",
       "</style>\n",
       "<ol class=list-inline><li>34756</li><li>11</li></ol>\n"
      ],
      "text/latex": [
       "\\begin{enumerate*}\n",
       "\\item 34756\n",
       "\\item 11\n",
       "\\end{enumerate*}\n"
      ],
      "text/markdown": [
       "1. 34756\n",
       "2. 11\n",
       "\n",
       "\n"
      ],
      "text/plain": [
       "[1] 34756    11"
      ]
     },
     "metadata": {},
     "output_type": "display_data"
    }
   ],
   "source": [
    "# Check the dimensions of the main data frame now\n",
    "dim(NTLdata)"
   ]
  },
  {
   "cell_type": "markdown",
   "metadata": {},
   "source": [
    "### `summary`"
   ]
  },
  {
   "cell_type": "markdown",
   "metadata": {},
   "source": [
    "Use the `summary` function to compute summary statistics of data and model objects. In this lesson, we will use `summary` to determine how many observations are present for each lake. "
   ]
  },
  {
   "cell_type": "code",
   "execution_count": 25,
   "metadata": {},
   "outputs": [
    {
     "data": {
      "text/plain": [
       "   Length     Class      Mode \n",
       "    34756 character character "
      ]
     },
     "metadata": {},
     "output_type": "display_data"
    }
   ],
   "source": [
    "summary(NTLdata$lakename)"
   ]
  },
  {
   "cell_type": "markdown",
   "metadata": {},
   "source": [
    "## Subsetting and Filtering "
   ]
  },
  {
   "cell_type": "markdown",
   "metadata": {},
   "source": [
    "### `filter`"
   ]
  },
  {
   "cell_type": "markdown",
   "metadata": {},
   "source": [
    "Use the `filter` function to choose rows/cases where conditions are true. In this lesson, we will use `filter` to select the three lakes with the most observations. "
   ]
  },
  {
   "cell_type": "code",
   "execution_count": 26,
   "metadata": {},
   "outputs": [],
   "source": [
    "NTLdata <- NTLdata %>%\n",
    "  filter(lakename %in% c(\"Paul Lake\", \"Peter Lake\", \"Tuesday Lake\"))"
   ]
  },
  {
   "cell_type": "code",
   "execution_count": 27,
   "metadata": {},
   "outputs": [],
   "source": [
    "## You could also filter the data frame using this notation to get the same results\n",
    "NTLdata <- NTLdata %>%\n",
    "  filter(lakename == \"Paul Lake\" | lakename == \"Peter Lake\" | \n",
    "           lakename == \"Tuesday Lake\")"
   ]
  },
  {
   "cell_type": "markdown",
   "metadata": {},
   "source": [
    "### Create three separate data frames for each lake"
   ]
  },
  {
   "cell_type": "code",
   "execution_count": 28,
   "metadata": {},
   "outputs": [],
   "source": [
    "Pauldata <- filter(NTLdata, lakename == \"Paul Lake\")\n",
    "Peterdata <- filter(NTLdata, lakename == \"Peter Lake\")\n",
    "Tuesdaydata <- filter(NTLdata, lakename == \"Tuesday Lake\")"
   ]
  },
  {
   "cell_type": "markdown",
   "metadata": {},
   "source": [
    "### Determine the beginning and end dates of each lake's period of record"
   ]
  },
  {
   "cell_type": "markdown",
   "metadata": {},
   "source": [
    "### `min` and `max`"
   ]
  },
  {
   "cell_type": "code",
   "execution_count": null,
   "metadata": {},
   "outputs": [],
   "source": []
  },
  {
   "cell_type": "markdown",
   "metadata": {},
   "source": [
    "Use the `min` and `max` functions to return the minimum and maximum values of a numeric vector or column."
   ]
  },
  {
   "cell_type": "code",
   "execution_count": 29,
   "metadata": {},
   "outputs": [
    {
     "data": {
      "text/html": [
       "<time datetime=\"1984-05-27\">1984-05-27</time>"
      ],
      "text/latex": [
       "1984-05-27"
      ],
      "text/markdown": [
       "1984-05-27"
      ],
      "text/plain": [
       "[1] \"1984-05-27\""
      ]
     },
     "metadata": {},
     "output_type": "display_data"
    },
    {
     "data": {
      "text/html": [
       "<time datetime=\"2016-08-16\">2016-08-16</time>"
      ],
      "text/latex": [
       "2016-08-16"
      ],
      "text/markdown": [
       "2016-08-16"
      ],
      "text/plain": [
       "[1] \"2016-08-16\""
      ]
     },
     "metadata": {},
     "output_type": "display_data"
    },
    {
     "data": {
      "text/html": [
       "<time datetime=\"1984-05-28\">1984-05-28</time>"
      ],
      "text/latex": [
       "1984-05-28"
      ],
      "text/markdown": [
       "1984-05-28"
      ],
      "text/plain": [
       "[1] \"1984-05-28\""
      ]
     },
     "metadata": {},
     "output_type": "display_data"
    },
    {
     "data": {
      "text/html": [
       "<time datetime=\"2016-08-15\">2016-08-15</time>"
      ],
      "text/latex": [
       "2016-08-15"
      ],
      "text/markdown": [
       "2016-08-15"
      ],
      "text/plain": [
       "[1] \"2016-08-15\""
      ]
     },
     "metadata": {},
     "output_type": "display_data"
    },
    {
     "data": {
      "text/html": [
       "<time datetime=\"1984-05-29\">1984-05-29</time>"
      ],
      "text/latex": [
       "1984-05-29"
      ],
      "text/markdown": [
       "1984-05-29"
      ],
      "text/plain": [
       "[1] \"1984-05-29\""
      ]
     },
     "metadata": {},
     "output_type": "display_data"
    },
    {
     "data": {
      "text/html": [
       "<time datetime=\"2016-08-17\">2016-08-17</time>"
      ],
      "text/latex": [
       "2016-08-17"
      ],
      "text/markdown": [
       "2016-08-17"
      ],
      "text/plain": [
       "[1] \"2016-08-17\""
      ]
     },
     "metadata": {},
     "output_type": "display_data"
    }
   ],
   "source": [
    "min(Pauldata$sampledate)\n",
    "max(Pauldata$sampledate)\n",
    "min(Peterdata$sampledate)\n",
    "max(Peterdata$sampledate)\n",
    "min(Tuesdaydata$sampledate)\n",
    "max(Tuesdaydata$sampledate)"
   ]
  },
  {
   "cell_type": "markdown",
   "metadata": {},
   "source": [
    "### Determine the unique depth values (meters) sampled in each lake"
   ]
  },
  {
   "cell_type": "markdown",
   "metadata": {},
   "source": [
    "### `unique`"
   ]
  },
  {
   "cell_type": "markdown",
   "metadata": {},
   "source": [
    "Use the `unique` function to extract unique elements by removing duplicate elements/rows from a vector, data frame or array. "
   ]
  },
  {
   "cell_type": "code",
   "execution_count": 30,
   "metadata": {},
   "outputs": [
    {
     "data": {
      "text/html": [
       "<style>\n",
       ".list-inline {list-style: none; margin:0; padding: 0}\n",
       ".list-inline>li {display: inline-block}\n",
       ".list-inline>li:not(:last-child)::after {content: \"\\00b7\"; padding: 0 .5ex}\n",
       "</style>\n",
       "<ol class=list-inline><li>0</li><li>1</li><li>2</li><li>3</li><li>4</li><li>5</li><li>6</li><li>7</li><li>8</li><li>9</li><li>10</li><li>11</li><li>12</li><li>0.5</li><li>1.5</li><li>2.5</li><li>3.5</li><li>20</li><li>4.5</li><li>5.5</li><li>6.5</li><li>7.5</li><li>11.5</li><li>13</li><li>8.5</li><li>9.5</li></ol>\n"
      ],
      "text/latex": [
       "\\begin{enumerate*}\n",
       "\\item 0\n",
       "\\item 1\n",
       "\\item 2\n",
       "\\item 3\n",
       "\\item 4\n",
       "\\item 5\n",
       "\\item 6\n",
       "\\item 7\n",
       "\\item 8\n",
       "\\item 9\n",
       "\\item 10\n",
       "\\item 11\n",
       "\\item 12\n",
       "\\item 0.5\n",
       "\\item 1.5\n",
       "\\item 2.5\n",
       "\\item 3.5\n",
       "\\item 20\n",
       "\\item 4.5\n",
       "\\item 5.5\n",
       "\\item 6.5\n",
       "\\item 7.5\n",
       "\\item 11.5\n",
       "\\item 13\n",
       "\\item 8.5\n",
       "\\item 9.5\n",
       "\\end{enumerate*}\n"
      ],
      "text/markdown": [
       "1. 0\n",
       "2. 1\n",
       "3. 2\n",
       "4. 3\n",
       "5. 4\n",
       "6. 5\n",
       "7. 6\n",
       "8. 7\n",
       "9. 8\n",
       "10. 9\n",
       "11. 10\n",
       "12. 11\n",
       "13. 12\n",
       "14. 0.5\n",
       "15. 1.5\n",
       "16. 2.5\n",
       "17. 3.5\n",
       "18. 20\n",
       "19. 4.5\n",
       "20. 5.5\n",
       "21. 6.5\n",
       "22. 7.5\n",
       "23. 11.5\n",
       "24. 13\n",
       "25. 8.5\n",
       "26. 9.5\n",
       "\n",
       "\n"
      ],
      "text/plain": [
       " [1]  0.0  1.0  2.0  3.0  4.0  5.0  6.0  7.0  8.0  9.0 10.0 11.0 12.0  0.5  1.5\n",
       "[16]  2.5  3.5 20.0  4.5  5.5  6.5  7.5 11.5 13.0  8.5  9.5"
      ]
     },
     "metadata": {},
     "output_type": "display_data"
    },
    {
     "data": {
      "text/html": [
       "<style>\n",
       ".list-inline {list-style: none; margin:0; padding: 0}\n",
       ".list-inline>li {display: inline-block}\n",
       ".list-inline>li:not(:last-child)::after {content: \"\\00b7\"; padding: 0 .5ex}\n",
       "</style>\n",
       "<ol class=list-inline><li>0</li><li>1</li><li>2</li><li>3</li><li>4</li><li>5</li><li>6</li><li>7</li><li>8</li><li>9</li><li>10</li><li>11</li><li>12</li><li>13</li><li>14</li><li>15</li><li>16</li><li>17</li><li>0.5</li><li>1.5</li><li>2.5</li><li>3.5</li><li>4.5</li><li>5.5</li><li>6.5</li><li>7.5</li><li>8.5</li><li>0.75</li></ol>\n"
      ],
      "text/latex": [
       "\\begin{enumerate*}\n",
       "\\item 0\n",
       "\\item 1\n",
       "\\item 2\n",
       "\\item 3\n",
       "\\item 4\n",
       "\\item 5\n",
       "\\item 6\n",
       "\\item 7\n",
       "\\item 8\n",
       "\\item 9\n",
       "\\item 10\n",
       "\\item 11\n",
       "\\item 12\n",
       "\\item 13\n",
       "\\item 14\n",
       "\\item 15\n",
       "\\item 16\n",
       "\\item 17\n",
       "\\item 0.5\n",
       "\\item 1.5\n",
       "\\item 2.5\n",
       "\\item 3.5\n",
       "\\item 4.5\n",
       "\\item 5.5\n",
       "\\item 6.5\n",
       "\\item 7.5\n",
       "\\item 8.5\n",
       "\\item 0.75\n",
       "\\end{enumerate*}\n"
      ],
      "text/markdown": [
       "1. 0\n",
       "2. 1\n",
       "3. 2\n",
       "4. 3\n",
       "5. 4\n",
       "6. 5\n",
       "7. 6\n",
       "8. 7\n",
       "9. 8\n",
       "10. 9\n",
       "11. 10\n",
       "12. 11\n",
       "13. 12\n",
       "14. 13\n",
       "15. 14\n",
       "16. 15\n",
       "17. 16\n",
       "18. 17\n",
       "19. 0.5\n",
       "20. 1.5\n",
       "21. 2.5\n",
       "22. 3.5\n",
       "23. 4.5\n",
       "24. 5.5\n",
       "25. 6.5\n",
       "26. 7.5\n",
       "27. 8.5\n",
       "28. 0.75\n",
       "\n",
       "\n"
      ],
      "text/plain": [
       " [1]  0.00  1.00  2.00  3.00  4.00  5.00  6.00  7.00  8.00  9.00 10.00 11.00\n",
       "[13] 12.00 13.00 14.00 15.00 16.00 17.00  0.50  1.50  2.50  3.50  4.50  5.50\n",
       "[25]  6.50  7.50  8.50  0.75"
      ]
     },
     "metadata": {},
     "output_type": "display_data"
    },
    {
     "data": {
      "text/html": [
       "<style>\n",
       ".list-inline {list-style: none; margin:0; padding: 0}\n",
       ".list-inline>li {display: inline-block}\n",
       ".list-inline>li:not(:last-child)::after {content: \"\\00b7\"; padding: 0 .5ex}\n",
       "</style>\n",
       "<ol class=list-inline><li>0</li><li>1</li><li>1.5</li><li>2</li><li>3</li><li>4</li><li>5</li><li>6</li><li>7</li><li>8</li><li>9</li><li>10</li><li>12</li><li>0.5</li><li>2.5</li><li>3.5</li><li>14</li><li>16</li><li>15</li><li>13</li><li>11</li><li>4.5</li><li>5.5</li><li>6.5</li></ol>\n"
      ],
      "text/latex": [
       "\\begin{enumerate*}\n",
       "\\item 0\n",
       "\\item 1\n",
       "\\item 1.5\n",
       "\\item 2\n",
       "\\item 3\n",
       "\\item 4\n",
       "\\item 5\n",
       "\\item 6\n",
       "\\item 7\n",
       "\\item 8\n",
       "\\item 9\n",
       "\\item 10\n",
       "\\item 12\n",
       "\\item 0.5\n",
       "\\item 2.5\n",
       "\\item 3.5\n",
       "\\item 14\n",
       "\\item 16\n",
       "\\item 15\n",
       "\\item 13\n",
       "\\item 11\n",
       "\\item 4.5\n",
       "\\item 5.5\n",
       "\\item 6.5\n",
       "\\end{enumerate*}\n"
      ],
      "text/markdown": [
       "1. 0\n",
       "2. 1\n",
       "3. 1.5\n",
       "4. 2\n",
       "5. 3\n",
       "6. 4\n",
       "7. 5\n",
       "8. 6\n",
       "9. 7\n",
       "10. 8\n",
       "11. 9\n",
       "12. 10\n",
       "13. 12\n",
       "14. 0.5\n",
       "15. 2.5\n",
       "16. 3.5\n",
       "17. 14\n",
       "18. 16\n",
       "19. 15\n",
       "20. 13\n",
       "21. 11\n",
       "22. 4.5\n",
       "23. 5.5\n",
       "24. 6.5\n",
       "\n",
       "\n"
      ],
      "text/plain": [
       " [1]  0.0  1.0  1.5  2.0  3.0  4.0  5.0  6.0  7.0  8.0  9.0 10.0 12.0  0.5  2.5\n",
       "[16]  3.5 14.0 16.0 15.0 13.0 11.0  4.5  5.5  6.5"
      ]
     },
     "metadata": {},
     "output_type": "display_data"
    }
   ],
   "source": [
    "unique(Pauldata$depth)\n",
    "unique(Peterdata$depth)\n",
    "unique(Tuesdaydata$depth)"
   ]
  }
 ],
 "metadata": {
  "celltoolbar": "Raw Cell Format",
  "kernelspec": {
   "display_name": "R",
   "language": "R",
   "name": "ir"
  },
  "language_info": {
   "codemirror_mode": "r",
   "file_extension": ".r",
   "mimetype": "text/x-r-source",
   "name": "R",
   "pygments_lexer": "r",
   "version": "4.0.3"
  }
 },
 "nbformat": 4,
 "nbformat_minor": 4
}
