{
 "cells": [
  {
   "cell_type": "code",
   "execution_count": null,
   "metadata": {},
   "outputs": [],
   "source": [
    "# import necessary modules\n",
    "from cdo_api_py import Client\n",
    "import pandas as pd\n",
    "from datetime import datetime\n",
    "token = 'lsANjWwoJQegJhKZtKNJPVDGWIGhBSJN'\n",
    "# the Client object helps you acess the NCDC database with your token\n",
    "my_client = Client(token, default_units='None', default_limit=1000)\n",
    "help(Client.find_stations)"
   ]
  },
  {
   "cell_type": "code",
   "execution_count": null,
   "metadata": {},
   "outputs": [],
   "source": [
    "# input of start data, end date, type of dataset, and name of gauge\n",
    "startdate = datetime(2012, 5, 1)\n",
    "enddate = datetime(2012, 5, 31)\n",
    "datasetid = 'PRECIP_HLY'\n",
    "gauge_id = 'COOP:180700'"
   ]
  },
  {
   "cell_type": "code",
   "execution_count": null,
   "metadata": {},
   "outputs": [],
   "source": [
    "#The get_data_by_station function returns the dataframe containing the precipitation dataset you request.\n",
    "Rainfall_data = my_client.get_data_by_station(datasetid = datasetid, stationid = gauge_id,\n",
    "               startdate = startdate, enddate = enddate, return_dataframe = True,\n",
    "               include_station_meta = True)\n",
    "print(Rainfall_data.head(10)) # show the first 10 rows of Dataframe\n",
    "filename = datasetid + '_' + gauge_id + '.csv'\n",
    "# write the dataframe into the .csv file by to_csv function with the fileanme\n",
    "Rainfall_data.to_csv(filename)"
   ]
  },
  {
   "cell_type": "code",
   "execution_count": null,
   "metadata": {},
   "outputs": [],
   "source": []
  }
 ],
 "metadata": {
  "kernelspec": {
   "display_name": "Python 3",
   "language": "python",
   "name": "python3"
  },
  "language_info": {
   "codemirror_mode": {
    "name": "ipython",
    "version": 3
   },
   "file_extension": ".py",
   "mimetype": "text/x-python",
   "name": "python",
   "nbconvert_exporter": "python",
   "pygments_lexer": "ipython3",
   "version": "3.6.5"
  }
 },
 "nbformat": 4,
 "nbformat_minor": 2
}
