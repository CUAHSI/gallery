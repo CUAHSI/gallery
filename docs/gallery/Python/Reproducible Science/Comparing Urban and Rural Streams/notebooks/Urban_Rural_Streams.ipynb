{
 "cells": [
  {
   "cell_type": "markdown",
   "metadata": {},
   "source": [
    "# Comparing Urban and Rural Streams\n",
    "In this notebook we'll compare the hydrology of two streams in the Baltimore area:\n",
    "* [Grave Run](https://waterdata.usgs.gov/md/nwis/uv?site_no=01581830), a rural stream with only 0.3% impervious surfaces, and\n",
    "* [Dead Run](https://waterdata.usgs.gov/md/nwis/uv?site_no=01589330), an urban stream that is 39% impervious surfaces.\n",
    "\n",
    "These two watersheds are similar in size, topography, and geology. They also have very emo names."
   ]
  },
  {
   "cell_type": "code",
   "execution_count": null,
   "metadata": {},
   "outputs": [],
   "source": [
    "# For future notice if hydrofunctions is not available on HydroShare:\n",
    "# Use these commands to install a pip package in the current Jupyter kernel (should be Python 3)\n",
    "#import sys\n",
    "#!{sys.executable} -m pip install hydrofunctions"
   ]
  },
  {
   "cell_type": "code",
   "execution_count": 1,
   "metadata": {},
   "outputs": [
    {
     "name": "stdout",
     "output_type": "stream",
     "text": [
      "0.1.7\n"
     ]
    }
   ],
   "source": [
    "# Start with the usual.\n",
    "import numpy as np\n",
    "import pandas as pd\n",
    "import hydrofunctions as hf\n",
    "print(hf.__version__)\n",
    "import matplotlib as plt\n",
    "%matplotlib inline"
   ]
  },
  {
   "cell_type": "code",
   "execution_count": 2,
   "metadata": {},
   "outputs": [
    {
     "data": {
      "text/plain": [
       "True"
      ]
     },
     "execution_count": 2,
     "metadata": {},
     "output_type": "execute_result"
    }
   ],
   "source": [
    "# request data for our two sites for a three-year period.\n",
    "sites = ['01581830', '01589330']\n",
    "request = hf.NWIS(sites, start_date='2002-01-01', end_date='2005-01-01').get_data()\n",
    "request.ok # Verify that the data request went fine."
   ]
  },
  {
   "cell_type": "code",
   "execution_count": 3,
   "metadata": {},
   "outputs": [
    {
     "data": {
      "text/html": [
       "<div>\n",
       "<style scoped>\n",
       "    .dataframe tbody tr th:only-of-type {\n",
       "        vertical-align: middle;\n",
       "    }\n",
       "\n",
       "    .dataframe tbody tr th {\n",
       "        vertical-align: top;\n",
       "    }\n",
       "\n",
       "    .dataframe thead th {\n",
       "        text-align: right;\n",
       "    }\n",
       "</style>\n",
       "<table border=\"1\" class=\"dataframe\">\n",
       "  <thead>\n",
       "    <tr style=\"text-align: right;\">\n",
       "      <th></th>\n",
       "      <th>USGS:01581830:00060:00003</th>\n",
       "      <th>USGS:01581830:00060:00003_qualifiers</th>\n",
       "      <th>USGS:01589330:00060:00003</th>\n",
       "      <th>USGS:01589330:00060:00003_qualifiers</th>\n",
       "    </tr>\n",
       "  </thead>\n",
       "  <tbody>\n",
       "    <tr>\n",
       "      <th>2002-01-01</th>\n",
       "      <td>3.20</td>\n",
       "      <td>A e</td>\n",
       "      <td>0.60</td>\n",
       "      <td>A</td>\n",
       "    </tr>\n",
       "    <tr>\n",
       "      <th>2002-01-02</th>\n",
       "      <td>3.20</td>\n",
       "      <td>A e</td>\n",
       "      <td>0.61</td>\n",
       "      <td>A</td>\n",
       "    </tr>\n",
       "    <tr>\n",
       "      <th>2002-01-03</th>\n",
       "      <td>3.30</td>\n",
       "      <td>A e</td>\n",
       "      <td>0.60</td>\n",
       "      <td>A</td>\n",
       "    </tr>\n",
       "    <tr>\n",
       "      <th>2002-01-04</th>\n",
       "      <td>3.20</td>\n",
       "      <td>A e</td>\n",
       "      <td>0.64</td>\n",
       "      <td>A</td>\n",
       "    </tr>\n",
       "    <tr>\n",
       "      <th>2002-01-05</th>\n",
       "      <td>4.18</td>\n",
       "      <td>A</td>\n",
       "      <td>0.60</td>\n",
       "      <td>A</td>\n",
       "    </tr>\n",
       "  </tbody>\n",
       "</table>\n",
       "</div>"
      ],
      "text/plain": [
       "            USGS:01581830:00060:00003 USGS:01581830:00060:00003_qualifiers  \\\n",
       "2002-01-01                       3.20                                  A e   \n",
       "2002-01-02                       3.20                                  A e   \n",
       "2002-01-03                       3.30                                  A e   \n",
       "2002-01-04                       3.20                                  A e   \n",
       "2002-01-05                       4.18                                    A   \n",
       "\n",
       "            USGS:01589330:00060:00003 USGS:01589330:00060:00003_qualifiers  \n",
       "2002-01-01                       0.60                                    A  \n",
       "2002-01-02                       0.61                                    A  \n",
       "2002-01-03                       0.60                                    A  \n",
       "2002-01-04                       0.64                                    A  \n",
       "2002-01-05                       0.60                                    A  "
      ]
     },
     "execution_count": 3,
     "metadata": {},
     "output_type": "execute_result"
    }
   ],
   "source": [
    "# We'll store our data in a dataframe named 'Q'\n",
    "Q = request.df()\n",
    "Q.head()  # Print the first five rows to verify."
   ]
  },
  {
   "cell_type": "code",
   "execution_count": 4,
   "metadata": {},
   "outputs": [
    {
     "data": {
      "text/plain": [
       "['GRAVE RUN NEAR BECKLEYSVILLE, MD', 'DEAD RUN AT FRANKLINTOWN, MD']"
      ]
     },
     "execution_count": 4,
     "metadata": {},
     "output_type": "execute_result"
    }
   ],
   "source": [
    "# What are the names for our two sites?\n",
    "request.siteName"
   ]
  },
  {
   "cell_type": "code",
   "execution_count": 5,
   "metadata": {},
   "outputs": [
    {
     "data": {
      "text/plain": [
       "Index(['USGS:01581830:00060:00003', 'USGS:01589330:00060:00003'], dtype='object')"
      ]
     },
     "execution_count": 5,
     "metadata": {},
     "output_type": "execute_result"
    }
   ],
   "source": [
    "# Modify our dataframe so that it only includes the columns with discharge in them.\n",
    "Q = Q.iloc[:,[0,2]]\n",
    "# What are the column names?\n",
    "Q.columns"
   ]
  },
  {
   "cell_type": "code",
   "execution_count": 6,
   "metadata": {},
   "outputs": [
    {
     "data": {
      "text/html": [
       "<div>\n",
       "<style scoped>\n",
       "    .dataframe tbody tr th:only-of-type {\n",
       "        vertical-align: middle;\n",
       "    }\n",
       "\n",
       "    .dataframe tbody tr th {\n",
       "        vertical-align: top;\n",
       "    }\n",
       "\n",
       "    .dataframe thead th {\n",
       "        text-align: right;\n",
       "    }\n",
       "</style>\n",
       "<table border=\"1\" class=\"dataframe\">\n",
       "  <thead>\n",
       "    <tr style=\"text-align: right;\">\n",
       "      <th></th>\n",
       "      <th>Rural</th>\n",
       "      <th>Urban</th>\n",
       "    </tr>\n",
       "  </thead>\n",
       "  <tbody>\n",
       "    <tr>\n",
       "      <th>2002-01-01 00:00:00</th>\n",
       "      <td>3.20</td>\n",
       "      <td>0.60</td>\n",
       "    </tr>\n",
       "    <tr>\n",
       "      <th>2002-01-02 00:00:00</th>\n",
       "      <td>3.20</td>\n",
       "      <td>0.61</td>\n",
       "    </tr>\n",
       "    <tr>\n",
       "      <th>2002-01-03 00:00:00</th>\n",
       "      <td>3.30</td>\n",
       "      <td>0.60</td>\n",
       "    </tr>\n",
       "    <tr>\n",
       "      <th>2002-01-04 00:00:00</th>\n",
       "      <td>3.20</td>\n",
       "      <td>0.64</td>\n",
       "    </tr>\n",
       "    <tr>\n",
       "      <th>2002-01-05 00:00:00</th>\n",
       "      <td>4.18</td>\n",
       "      <td>0.60</td>\n",
       "    </tr>\n",
       "  </tbody>\n",
       "</table>\n",
       "</div>"
      ],
      "text/plain": [
       "                     Rural  Urban\n",
       "2002-01-01 00:00:00   3.20   0.60\n",
       "2002-01-02 00:00:00   3.20   0.61\n",
       "2002-01-03 00:00:00   3.30   0.60\n",
       "2002-01-04 00:00:00   3.20   0.64\n",
       "2002-01-05 00:00:00   4.18   0.60"
      ]
     },
     "execution_count": 6,
     "metadata": {},
     "output_type": "execute_result"
    }
   ],
   "source": [
    "# Rename the columns to 'Urban' and 'Rural' so we remember which is which!\n",
    "Q.rename(index=str, columns={\"USGS:01581830:00060:00003\": \"Rural\", \"USGS:01589330:00060:00003\": \"Urban\"}, inplace=True)\n",
    "Q.head()  # List the first five rows."
   ]
  },
  {
   "cell_type": "code",
   "execution_count": 7,
   "metadata": {},
   "outputs": [
    {
     "data": {
      "text/plain": [
       "<matplotlib.axes._subplots.AxesSubplot at 0x7f2e74ae9470>"
      ]
     },
     "execution_count": 7,
     "metadata": {},
     "output_type": "execute_result"
    },
    {
     "data": {
      "image/png": "[encoded data removed]",
      "text/plain": [
       "<matplotlib.figure.Figure at 0x7f2e93dc1e80>"
      ]
     },
     "metadata": {},
     "output_type": "display_data"
    }
   ],
   "source": [
    "# Let's plot our data to create a hydrograph. plot() is a method that is built-in to dataframes.\n",
    "Q.plot()"
   ]
  },
  {
   "cell_type": "code",
   "execution_count": 8,
   "metadata": {},
   "outputs": [
    {
     "data": {
      "text/plain": [
       "(<matplotlib.figure.Figure at 0x7f2e74aabf60>,\n",
       " <matplotlib.axes._subplots.AxesSubplot at 0x7f2e74aecbe0>)"
      ]
     },
     "execution_count": 8,
     "metadata": {},
     "output_type": "execute_result"
    },
    {
     "data": {
      "image/png": "[encoded data removed]",
      "text/plain": [
       "<matplotlib.figure.Figure at 0x7f2e74aabf60>"
      ]
     },
     "metadata": {},
     "output_type": "display_data"
    }
   ],
   "source": [
    "# Let's create a flow duration chart for our two sites!\n",
    "# .flow_duration is a function included in Hydrofunctions. It accepts dataframes as input.\n",
    "hf.flow_duration(Q)"
   ]
  },
  {
   "cell_type": "code",
   "execution_count": 9,
   "metadata": {},
   "outputs": [
    {
     "name": "stdout",
     "output_type": "stream",
     "text": [
      "data\t\t    Import_USGS_to_Pandas.ipynb  Urban_Rural_Streams.ipynb\r\n",
      "help\t\t    notebooks\t\t\t utilities\r\n",
      "hydrofunctions-old  test\t\t\t Welcome.ipynb\r\n"
     ]
    }
   ],
   "source": [
    "!ls"
   ]
  },
  {
   "cell_type": "code",
   "execution_count": 12,
   "metadata": {},
   "outputs": [
    {
     "name": "stdout",
     "output_type": "stream",
     "text": [
      "\n",
      "Environment file could not be found.  Make sure that the JUPYTER_ENV variable is set properly\n",
      "\n",
      "The hs_utils library requires a secure connection to your HydroShare account.\n",
      "Please enter your HydroShare username: mroberge@towson.edu\n",
      "Enter the HydroShare password for user 'mroberge@towson.edu': ········\n",
      "Successfully established a connection with HydroShare\n",
      "Resource Created Successfully                           \n"
     ]
    },
    {
     "name": "stderr",
     "output_type": "stream",
     "text": [
      "Exception in thread Thread-4:\n",
      "Traceback (most recent call last):\n",
      "  File \"/opt/conda/lib/python3.6/threading.py\", line 916, in _bootstrap_inner\n",
      "    self.run()\n",
      "  File \"/opt/conda/lib/python3.6/threading.py\", line 864, in run\n",
      "    self._target(*self._args, **self._kwargs)\n",
      "  File \"/home/jovyan/work/notebooks/utilities/hydroshare/threads.py\", line 23, in f\n",
      "    res = self.func(*args, **kwargs)\n",
      "  File \"/opt/conda/lib/python3.6/site-packages/hs_restclient/__init__.py\", line 738, in createResource\n",
      "    close_fd = self._prepareFileForUpload(params, resource_file, resource_filename)\n",
      "  File \"/opt/conda/lib/python3.6/site-packages/hs_restclient/__init__.py\", line 170, in _prepareFileForUpload\n",
      "    raise HydroShareArgumentException(\"{0} is not a file or is not readable.\".format(resource_file))\n",
      "hs_restclient.exceptions.HydroShareArgumentException: U is not a file or is not readable.\n",
      "\n",
      "Exception in thread Thread-5:\n",
      "Traceback (most recent call last):\n",
      "  File \"/opt/conda/lib/python3.6/threading.py\", line 916, in _bootstrap_inner\n",
      "    self.run()\n",
      "  File \"/opt/conda/lib/python3.6/threading.py\", line 864, in run\n",
      "    self._target(*self._args, **self._kwargs)\n",
      "  File \"/home/jovyan/work/notebooks/utilities/hydroshare/threads.py\", line 23, in f\n",
      "    res = self.func(*args, **kwargs)\n",
      "  File \"/home/jovyan/work/notebooks/utilities/hydroshare/hydroshare.py\", line 68, in _addContentToExistingResource\n",
      "    self.hs.addResourceFile(resid, f)\n",
      "  File \"/opt/conda/lib/python3.6/site-packages/hs_restclient/__init__.py\", line 833, in addResourceFile\n",
      "    close_fd = self._prepareFileForUpload(params, resource_file, resource_filename)\n",
      "  File \"/opt/conda/lib/python3.6/site-packages/hs_restclient/__init__.py\", line 170, in _prepareFileForUpload\n",
      "    raise HydroShareArgumentException(\"{0} is not a file or is not readable.\".format(resource_file))\n",
      "hs_restclient.exceptions.HydroShareArgumentException: r is not a file or is not readable.\n",
      "\n"
     ]
    },
    {
     "name": "stdout",
     "output_type": "stream",
     "text": [
      "Successfully Added Content Files                      \n"
     ]
    },
    {
     "data": {
      "text/html": [
       "Resource id: None"
      ],
      "text/plain": [
       "<IPython.core.display.HTML object>"
      ]
     },
     "metadata": {},
     "output_type": "display_data"
    },
    {
     "data": {
      "text/html": [
       "<a href=https://www.hydroshare.org/resource/None target=\"_blank\">Open Resource in HydroShare<a>"
      ],
      "text/plain": [
       "<IPython.core.display.HTML object>"
      ]
     },
     "metadata": {},
     "output_type": "display_data"
    }
   ],
   "source": [
    "# lets save this content as a new resource in HydroShare\n",
    "abstract = 'This notebook demonstrates how to use the Python package \"hydrofunctions\" to download stream discharge data from the NWIS and plot a stream hydrograph and a flow duration chart.'\n",
    "title = 'Comparing Urban and Rural Streams'    \n",
    "keywords = ['Python', 'flow duration', 'hydrofunctions', 'hydrology']  \n",
    "rtype = 'genericresource'\n",
    "files = 'Urban_Rural_Streams.ipynb'\n",
    "\n",
    "# create the new resource\n",
    "from utilities import hydroshare\n",
    "hs = hydroshare.hydroshare()\n",
    "resource_id = hs.createHydroShareResource(abstract, \n",
    "                                          title, \n",
    "                                          keywords=keywords, \n",
    "                                          resource_type=rtype, \n",
    "                                          content_files=files, \n",
    "                                          public=True)"
   ]
  }
 ],
 "metadata": {
  "kernelspec": {
   "display_name": "Python 3",
   "language": "python",
   "name": "python3"
  },
  "language_info": {
   "codemirror_mode": {
    "name": "ipython",
    "version": 3
   },
   "file_extension": ".py",
   "mimetype": "text/x-python",
   "name": "python",
   "nbconvert_exporter": "python",
   "pygments_lexer": "ipython3",
   "version": "3.6.5"
  }
 },
 "nbformat": 4,
 "nbformat_minor": 2
}
